{
 "metadata": {
  "name": ""
 },
 "nbformat": 3,
 "nbformat_minor": 0,
 "worksheets": [
  {
   "cells": [
    {
     "cell_type": "code",
     "collapsed": false,
     "input": [
      "import numpy as np\n",
      "import scipy.signal as sig\n",
      "import nibabel as nb\n",
      "import os\n",
      "import matplotlib.pyplot as plt\n",
      "import nipype.interfaces.spm as spm"
     ],
     "language": "python",
     "metadata": {},
     "outputs": [],
     "prompt_number": 37
    },
    {
     "cell_type": "code",
     "collapsed": false,
     "input": [
      "#setup input/output\n",
      "#NOTE: SPM realign requires read/write access to the directory that the motion correction input files will be in (i.e., the outDir)\n",
      "inDir='/scr/minze1/RENZO_SCR/Auswertung_SCR/PSF/PSF/GAIT150125/Python_template/'\n",
      "outDir='/scr/minze1/RENZO_SCR/Auswertung_SCR/PSF/PSF/GAIT150125/Python_template/python_output'\n",
      "raw_data='original_from_scanner.nii'\n",
      "CLOBBER=False #set to true to overwrite everything, otherwise just work with the images that exist in the outDir"
     ],
     "language": "python",
     "metadata": {},
     "outputs": [],
     "prompt_number": 38
    },
    {
     "cell_type": "code",
     "collapsed": false,
     "input": [
      "#load data into numpy array\n",
      "fMRIi=nb.load(os.path.join(inDir,raw_data))\n",
      "fMRId=fMRIi.get_data()\n",
      "fMRIx=fMRIi.get_affine()\n",
      "\n",
      "print('Input data shape (x,y,z,t): ' + str(np.shape(fMRId)))\n",
      "nrep = np.shape(fMRId)[3]\n",
      "xrep = np.shape(fMRId)[0]\n",
      "yrep = np.shape(fMRId)[1]\n",
      "zrep = np.shape(fMRId)[2]\n",
      "print ('Nrep = ' +  str(nrep) + ' xrep = ' +  str(xrep) + ' yrep = ' +  str(yrep) + ' zrep = ' +  str(zrep))\n"
     ],
     "language": "python",
     "metadata": {},
     "outputs": [
      {
       "output_type": "stream",
       "stream": "stdout",
       "text": [
        "Input data shape (x,y,z,t): (68, 68, 15, 420)\n",
        "Nrep = 420 xrep = 68 yrep = 68 zrep = 15\n"
       ]
      }
     ],
     "prompt_number": 105
    },
    {
     "cell_type": "code",
     "collapsed": false,
     "input": [
      "#take slices of the data (this does NOT copy the data)\n",
      "BOLD=fMRId[:,:,:,2-nrep::2]\n",
      "VASO=fMRId[:,:,:,3-nrep::2]\n",
      "print('I have split every other volume into Not_nulled (first) and Nulled (second).')\n",
      "print('Final shapes are: Not_nulled - ' + str(np.shape(BOLD)) + '; Nulled - ' + str(np.shape(VASO)))\n",
      "\n",
      "if not(os.path.exists(os.path.join(outDir,os.path.splitext(raw_data)[0] + '_Not_Nulled.nii'))) or CLOBBER:\n",
      "    nb.save(nb.Nifti1Image(BOLD,fMRIx),os.path.join(outDir,os.path.splitext(raw_data)[0] + '_Not_Nulled.nii'))\n",
      "    nb.save(nb.Nifti1Image(VASO,fMRIx),os.path.join(outDir,os.path.splitext(raw_data)[0] + '_Nulled.nii'))"
     ],
     "language": "python",
     "metadata": {},
     "outputs": [
      {
       "output_type": "stream",
       "stream": "stdout",
       "text": [
        "I have split every other volume into Not_nulled (first) and Nulled (second).\n",
        "Final shapes are: Not_nulled - (68, 68, 15, 209); Nulled - (68, 68, 15, 209)\n"
       ]
      }
     ],
     "prompt_number": 40
    },
    {
     "cell_type": "code",
     "collapsed": false,
     "input": [
      "#Realign with SPM\n",
      "# NOTE: SPM needs to be accesible by matlab\n",
      "# you need to run \"SPM\" in the konsole before you start the notebook\n",
      "if not(os.path.exists(os.path.join(outDir,'r'+ os.path.splitext(raw_data)[0] + '_Nulled.nii'))) or CLOBBER:\n",
      "    realign=spm.Realign()\n",
      "    realign.inputs.in_files=[os.path.join(outDir,os.path.splitext(raw_data)[0] + '_Not_Nulled.nii'),\n",
      "                         os.path.join(outDir,os.path.splitext(raw_data)[0] + '_Nulled.nii')]#,\n",
      "                         #os.path.join(outDir,raw_data)] # XXX included a moco of the original input data to see what it looks like, remove later\n",
      "    #realign.inputs.register_to_mean=True\n",
      "    realign_out=realign.run()"
     ],
     "language": "python",
     "metadata": {},
     "outputs": [],
     "prompt_number": 42
    },
    {
     "cell_type": "code",
     "collapsed": false,
     "input": [
      "#read in MC files and calculate VASO tSNR, avg, and corrected VASO\n",
      "VASO_mc=nb.load(os.path.join(outDir,'r'+ os.path.splitext(raw_data)[0] + '_Nulled.nii')).get_data()\n",
      "BOLD_mc=nb.load(os.path.join(outDir,'r'+ os.path.splitext(raw_data)[0] + '_Not_Nulled.nii')).get_data()\n",
      "\n",
      "BOLDlast=BOLD_mc[:,:,:,-1] #get the last BOLD volume, to stack with BOLD that is offset by one more\n",
      "BOLDa=BOLD_mc[:,:,:,0::1]\n",
      "BOLDb=np.concatenate([BOLD_mc[:,:,:,1::1],BOLDlast[:,:,:,np.newaxis]],axis=-1)\n",
      "BOLDavg=(BOLDa+BOLDb)*.5\n",
      "\n",
      "#nb.save(nb.Nifti1Image(BOLDa,fMRIx),os.path.join(outDir, 'Dbug_BOLD_a.nii'))\n",
      "#nb.save(nb.Nifti1Image(BOLDb,fMRIx),os.path.join(outDir, 'Dbug_BOLD_b.nii'))\n",
      "\n",
      "VASO_mc_std=np.std(VASO_mc,axis=-1)\n",
      "VASO_mc_avg=np.mean(VASO_mc,axis=-1)\n",
      "\n",
      "if not(os.path.exists(os.path.join(outDir,os.path.splitext(raw_data)[0] + '_Nulled_tSNR.nii'))) or CLOBBER:\n",
      "    nb.save(nb.Nifti1Image(VASO_mc_avg/VASO_mc_std,fMRIx),os.path.join(outDir,os.path.splitext(raw_data)[0] + '_Nulled_tSNR.nii'))\n",
      "    nb.save(nb.Nifti1Image(VASO_mc_avg,fMRIx),os.path.join(outDir,os.path.splitext(raw_data)[0] + '_Nulled_mean.nii'))\n",
      "    nb.save(nb.Nifti1Image(VASO_mc_std,fMRIx),os.path.join(outDir,os.path.splitext(raw_data)[0] + '_Nulled_tstd.nii'))\n",
      "\n",
      "BOLDcorrVASO=VASO_mc/BOLDavg\n",
      "BOLDcorrVASO[np.isnan(BOLDcorrVASO)]=0 #cleanup the file to correct for divisions into/by 0 (maybe fix this in the division somehow?)\n",
      "BOLDcorrVASO[np.isinf(BOLDcorrVASO)]=0\n",
      "BOLDcorrVASOavg=np.mean(BOLDcorrVASO,axis=-1)\n",
      "BOLDcorrVASO=sig.detrend(BOLDcorrVASO,axis=-1,type='linear')+BOLDcorrVASOavg[...,np.newaxis] #remove linear drift, add the mean back in (this is on a per-voxel level???)\n",
      "\n",
      "if not(os.path.exists(os.path.join(outDir,os.path.splitext(raw_data)[0] + '_VASO.nii'))) or CLOBBER:\n",
      "    #save the final BOLD corrected VASO files\n",
      "    nb.save(nb.Nifti1Image(BOLDcorrVASO,fMRIx),os.path.join(outDir, 'VASO.nii'))\n",
      "    nb.save(nb.Nifti1Image(np.mean(BOLDcorrVASO,axis=-1),fMRIx),os.path.join(outDir,os.path.splitext(raw_data)[0] + '_VASO_mean.nii'))\n",
      "    nb.save(nb.Nifti1Image(np.mean(BOLDcorrVASO,axis=-1)/np.std(BOLDcorrVASO,axis=-1),fMRIx),os.path.join(outDir,os.path.splitext(raw_data)[0] + '_VASO_tSNR.nii'))\n",
      "    nb.save(nb.Nifti1Image( np.std(BOLDcorrVASO,axis=-1),fMRIx),os.path.join(outDir, 'VASO_stdev.nii'))\n",
      "    \n",
      "    \n",
      "if not(os.path.exists(os.path.join(outDir,os.path.splitext(raw_data)[0] + '_BOLD.nii'))) or CLOBBER:\n",
      "    #save the final BOLD corrected VASO files\n",
      "    nb.save(nb.Nifti1Image(BOLD_mc,fMRIx),os.path.join(outDir,'BOLD.nii'))\n",
      "    nb.save(nb.Nifti1Image(np.mean(BOLD_mc,axis=-1),fMRIx),os.path.join(outDir,os.path.splitext(raw_data)[0] + '_BOLD_mean.nii'))\n",
      "    nb.save(nb.Nifti1Image(np.mean(BOLD_mc,axis=-1)/np.std(BOLD_mc,axis=-1),fMRIx),os.path.join(outDir,os.path.splitext(raw_data)[0] + '_BOLD_tSNR.nii'))\n",
      "    nb.save(nb.Nifti1Image( np.std(BOLD_mc,axis=-1),fMRIx),os.path.join(outDir, 'BOLD_stdev.nii'))\n",
      "    \n",
      "    \n",
      "Mixed_contrast=np.concatenate([BOLD_mc[:,:,:,1::1],VASO_mc[:,:,:,1::1]],axis=-1)\n",
      "                               \n",
      "if not(os.path.exists(os.path.join(outDir,os.path.splitext(raw_data)[0] + '_T1_stability.nii'))) or CLOBBER:\n",
      "    #save the final BOLD corrected VASO files\n",
      "    nb.save(nb.Nifti1Image(np.mean(Mixed_contrast,axis=-1)/np.std(Mixed_contrast,axis=-1),fMRIx),os.path.join(outDir,os.path.splitext(raw_data)[0] + '_T1_stability.nii'))\n",
      "\n",
      "print('I have motion corrected, corrected your VASO images for BOLD, detrended them, and called them *_VASO*.nii')\n",
      "print('Have a nice day.')\n"
     ],
     "language": "python",
     "metadata": {},
     "outputs": [
      {
       "output_type": "stream",
       "stream": "stdout",
       "text": [
        "I have motion corrected, corrected your VASO images for BOLD, detrended them, and called them *_VASO*.nii\n",
        "Have a nice day.\n"
       ]
      },
      {
       "output_type": "stream",
       "stream": "stderr",
       "text": [
        "-c:47: RuntimeWarning: invalid value encountered in divide\n"
       ]
      }
     ],
     "prompt_number": 66
    },
    {
     "cell_type": "code",
     "collapsed": false,
     "input": [
      "import os\n",
      "os.system(\"feat design_BOLD.fsf\") # Note that in this way the nii files in the Feat design.fsf file need to be adjusted.\n",
      "print('BOLD statistics is done.')\n",
      "os.system(\"feat design_VASO.fsf\")\n",
      "print('VASO statistics is done.')"
     ],
     "language": "python",
     "metadata": {},
     "outputs": [
      {
       "metadata": {},
       "output_type": "pyout",
       "prompt_number": 88,
       "text": [
        "0"
       ]
      }
     ],
     "prompt_number": 88
    },
    {
     "cell_type": "code",
     "collapsed": false,
     "input": [
      "##XXX END CODE HERE XXX##\n",
      "##XXX What follows was/is test code XXX##"
     ],
     "language": "python",
     "metadata": {},
     "outputs": [],
     "prompt_number": 23
    },
    {
     "cell_type": "code",
     "collapsed": false,
     "input": [
      "#XXX extract from an ROI or single voxel?\n",
      "#use BOLD to find a voxel that shows highest value across space and time?\n",
      "#np.max()\n",
      "%matplotlib inline\n",
      "#%pylab qt\n",
      "x,y,z=[8,29,10]\n",
      "print('Signal from '+str(x) +','+ str(y) +','+ str(z) + ' (x,y,z)')\n",
      "\n",
      "plt.figure()\n",
      "plt.plot(BOLD_mc[x,y,z,:])\n",
      "plt.plot(VASO_mc[x,y,z,:])\n",
      "plt.legend(['BOLD_mc','VASO_mc'],loc='lower right')\n",
      "plt.show()\n",
      "plt.figure()\n",
      "plt.plot(BOLDcorrVASO[x,y,z,:])\n",
      "\n",
      "plt.show()"
     ],
     "language": "python",
     "metadata": {},
     "outputs": [
      {
       "output_type": "stream",
       "stream": "stdout",
       "text": [
        "Signal from 8,29,10 (x,y,z)\n"
       ]
      },
      {
       "metadata": {},
       "output_type": "display_data",
       "png": "[encoded data removed]",
       "text": [
        "<matplotlib.figure.Figure at 0x3e8fd90>"
       ]
      },
      {
       "metadata": {},
       "output_type": "display_data",
       "png": "[encoded data removed]",
       "text": [
        "<matplotlib.figure.Figure at 0x3f50410>"
       ]
      }
     ],
     "prompt_number": 82
    },
    {
     "cell_type": "code",
     "collapsed": false,
     "input": [
      "#XXX plot mean signal within ROI\n",
      "mask_image=nb.load(os.path.join(inDir, 'mask.nii')).get_data()\n",
      "\n",
      "\n",
      "%matplotlib inline\n",
      "#%pylab qt\n",
      "\n",
      "nrep_VASO = np.shape(BOLDcorrVASO)[3]\n",
      "print('Input data shape (x,y,z,t): ' + str(np.shape(BOLDcorrVASO)))\n",
      "\n",
      "x,y,z=[8,29,10]\n",
      "\n",
      "import nipype.interfaces.fsl as fsl\n",
      "fsl_comand = fsl.fslmaths()\n",
      "fsl_comand.inputs=BOLDcorrVASO\n",
      "fsl_comand.mask_file = mask_image\n",
      "terminal_output = output_image\n",
      "result = fsl_comand.run()\n",
      "\n",
      "#masked_VASO= np.ma.array (BOLDcorrVASO[:,:,:,], mask = mask_image)\n",
      "nb.save(nb.Nifti1Image(output_image,fMRIx),os.path.join(outDir, 'output.nii'))\n",
      "\n",
      "\n",
      "#timecourse = []\n",
      "timecourse = BOLDcorrVASO[0,0,0,:]\n",
      "for t_i in range(0, nrep_VASO):\n",
      "    timecourse[t_i] = 0\n",
      "\n",
      "#print('timecourse: ' + str(np.shape(timecourse)))\n",
      "\n",
      "#for x_i in range(0, xrep):\n",
      "#    for y_i in range(0, yrep):\n",
      "#        for z_i in range(0, zrep):\n",
      "#            for t_i in range(0, nrep_VASO):\n",
      "#                if mask[x_i,y_i,z_i] > 0.5:\n",
      "#                   timecourse[t_i] = timecourse[t_i] + BOLDcorrVASO[x_i,y_i,z_i,t_i]\n",
      "    \n",
      "    \n",
      "  #  print \"We're on time %d\" % (x)\n",
      "  \n",
      "    \n",
      "plt.figure()\n",
      "#plt.plot(BOLD_mc[mask[:,:,:,0]!= 0])\n",
      "#plt.plot(VASO_mc[x,y,z,:])\n",
      "plt.plot(timecourse[:])\n",
      "plt.legend(['timecourse'],loc='lower right')\n",
      "plt.show()\n",
      "plt.figure()\n",
      "#plt.plot(BOLDcorrVASO[x,y,z,:])\n",
      "\n",
      "plt.show()"
     ],
     "language": "python",
     "metadata": {},
     "outputs": [
      {
       "ename": "AttributeError",
       "evalue": "'module' object has no attribute 'fslmaths'",
       "output_type": "pyerr",
       "traceback": [
        "\u001b[0;31m---------------------------------------------------------------------------\u001b[0m\n\u001b[0;31mAttributeError\u001b[0m                            Traceback (most recent call last)",
        "\u001b[0;32m<ipython-input-124-7aa36adb55c6>\u001b[0m in \u001b[0;36m<module>\u001b[0;34m()\u001b[0m\n\u001b[1;32m     12\u001b[0m \u001b[0;34m\u001b[0m\u001b[0m\n\u001b[1;32m     13\u001b[0m \u001b[0;32mimport\u001b[0m \u001b[0mnipype\u001b[0m\u001b[0;34m.\u001b[0m\u001b[0minterfaces\u001b[0m\u001b[0;34m.\u001b[0m\u001b[0mfsl\u001b[0m \u001b[0;32mas\u001b[0m \u001b[0mfsl\u001b[0m\u001b[0;34m\u001b[0m\u001b[0m\n\u001b[0;32m---> 14\u001b[0;31m \u001b[0mfsl_comand\u001b[0m \u001b[0;34m=\u001b[0m \u001b[0mfsl\u001b[0m\u001b[0;34m.\u001b[0m\u001b[0mfslmaths\u001b[0m\u001b[0;34m(\u001b[0m\u001b[0;34m)\u001b[0m\u001b[0;34m\u001b[0m\u001b[0m\n\u001b[0m\u001b[1;32m     15\u001b[0m \u001b[0mfsl_comand\u001b[0m\u001b[0;34m.\u001b[0m\u001b[0minputs\u001b[0m\u001b[0;34m=\u001b[0m\u001b[0mBOLDcorrVASO\u001b[0m\u001b[0;34m\u001b[0m\u001b[0m\n\u001b[1;32m     16\u001b[0m \u001b[0mfsl_comand\u001b[0m\u001b[0;34m.\u001b[0m\u001b[0mmask_file\u001b[0m \u001b[0;34m=\u001b[0m \u001b[0mmask_image\u001b[0m\u001b[0;34m\u001b[0m\u001b[0m\n",
        "\u001b[0;31mAttributeError\u001b[0m: 'module' object has no attribute 'fslmaths'"
       ]
      },
      {
       "output_type": "stream",
       "stream": "stdout",
       "text": [
        "Input data shape (x,y,z,t): (68, 68, 15, 209)\n"
       ]
      }
     ],
     "prompt_number": 124
    },
    {
     "cell_type": "code",
     "collapsed": false,
     "input": [
      "'#detrend\n",
      "VASOcorr=np.copy(VASO/BOLDavg)\n",
      "VASOcorr[np.isnan(VASOcorr)]=0\n",
      "VASOcorr[np.isinf(VASOcorr)]=0\n",
      "\n",
      "VASOavg=np.mean(VASOcorr,axis=3)\n",
      "VASOavg[np.isinf(VASOavg)]=0\n",
      "\n",
      "VASOcorr_det=sig.detrend(VASOcorr,axis=-1,type='linear')+VASOavg[...,np.newaxis] #remove linear drift, add the mean back in (this is on a per-voxel level???)\n",
      "\n",
      "#alternative that is the mean across the volume\n",
      "#VASOcorr_det=sig.detrend(VASOcorr,axis=-1,type='linear')+VASOavg[...,np.newaxis] #remove linear drift, add the mean back in (this is on a per-voxel level???)\n",
      "\n",
      "nb.save(nb.Nifti1Image(VASOcorr_det,fMRIx),os.path.join(outDir,os.path.splitext(raw_data)[0] + '_VASO_corr_detrend.nii.gz'))\n",
      "\n",
      "#stdev for anatomical registration\n",
      "VASOstd=np.std(VASOcorr,axis=-1)\n",
      "nb.save(nb.Nifti1Image(VASOstd,fMRIx),os.path.join(outDir,os.path.splitext(raw_data)[0] + '_VASO_corr_detrend_tstd.nii.gz'))\n",
      "VASOavg=np.mean(VASOcorr,axis=-1)\n",
      "nb.save(nb.Nifti1Image(VASOavg,fMRIx),os.path.join(outDir,os.path.splitext(raw_data)[0] + '_VASO_corr_detrend_tavg.nii.gz'))\n",
      "nb.save(nb.Nifti1Image(VASOavg/VASOstd,fMRIx),os.path.join(outDir,os.path.splitext(raw_data)[0] + '_VASO_corr_detrend_tSNR.nii.gz'))\n"
     ],
     "language": "python",
     "metadata": {},
     "outputs": []
    },
    {
     "cell_type": "code",
     "collapsed": false,
     "input": [
      "np.shape(VASOcorr)[-1]"
     ],
     "language": "python",
     "metadata": {},
     "outputs": [
      {
       "metadata": {},
       "output_type": "pyout",
       "prompt_number": 29,
       "text": [
        "210"
       ]
      }
     ],
     "prompt_number": 29
    },
    {
     "cell_type": "code",
     "collapsed": false,
     "input": [
      "# OLD WAY OF calculating vaso (Pre JB)\n",
      "#calculate some stuff\n",
      "# for now, assume that we have already done the mcorr\n",
      "#remove linear drift\n",
      "# XXX HERE XXX\n",
      "\n",
      "# calculate BOLD-corrected VASO\n",
      "#first calc average BOLD surrounding each VASO volume\n",
      "BOLDa=BOLD[:,:,:,0::2]\n",
      "BOLDb=BOLD[:,:,:,1::2]\n",
      "BOLDab=np.zeros_like(BOLDa)\n",
      "BOLDab=(BOLDa+BOLDb)*.5 #average bold for index 0::2\n",
      "\n",
      "\n",
      "#corrVASOa=np.copy(VASO[:,:,:,0::2]/BOLDa) #might need to mask this first, as we end up dividing by zeros (this also may make it faster)\n",
      "\n",
      "BOLDlast=BOLD[:,:,:,-1] #get the last BOLD volume, to stack with BOLD that is offset by one more\n",
      "BOLDc=np.concatenate([BOLD[:,:,:,2::2],BOLDlast[:,:,:,np.newaxis]],axis=-1) #stack the last one on to the end, need to specify np.newaxis to make the same shape\n",
      "BOLDbc=(BOLDb+BOLDc)*.5 #average BOLD for index 1::2\n",
      "\n",
      "#corrVASO=np.zeros_like(VASO)\n",
      "#corrVASO=(VASO[:,:,:,0::2]/BOLDab) # XXX doing this two times does not work!\n",
      "#nb.save(nb.Nifti1Image(corrVASO,fMRIx),os.path.join(outDir,os.path.splitext(raw_data)[0] + '_VASO_XXX1.nii.gz'))\n",
      "#corrVASO=(VASO[:,:,:,1::2]/BOLDbc)\n",
      "#nb.save(nb.Nifti1Image(corrVASO,fMRIx),os.path.join(outDir,os.path.splitext(raw_data)[0] + '_VASO_XXX2.nii.gz'))\n",
      "corrVASO=np.insert(VASO[:,:,:,1::2]/BOLDbc,np.arange(np.shape(BOLDab)[-1]),VASO[:,:,:,0::2]/BOLDab,axis=3)\n",
      "\n",
      "\n",
      "nb.save(nb.Nifti1Image(corrVASO,fMRIx),os.path.join(outDir,os.path.splitext(raw_data)[0] + '_VASO_corr2.nii.gz'))"
     ],
     "language": "python",
     "metadata": {},
     "outputs": [],
     "prompt_number": 121
    },
    {
     "cell_type": "code",
     "collapsed": false,
     "input": [],
     "language": "python",
     "metadata": {},
     "outputs": [],
     "prompt_number": 113
    },
    {
     "cell_type": "code",
     "collapsed": false,
     "input": [
      "BOLDab1[1,1,1,1]"
     ],
     "language": "python",
     "metadata": {},
     "outputs": [
      {
       "metadata": {},
       "output_type": "pyout",
       "prompt_number": 11,
       "text": [
        "66.5"
       ]
      }
     ],
     "prompt_number": 11
    },
    {
     "cell_type": "code",
     "collapsed": false,
     "input": [
      "a=np.array([[1,2,3],[3,4,5]])\n",
      "a"
     ],
     "language": "python",
     "metadata": {},
     "outputs": [
      {
       "metadata": {},
       "output_type": "pyout",
       "prompt_number": 18,
       "text": [
        "array([[1, 2, 3],\n",
        "       [3, 4, 5]])"
       ]
      }
     ],
     "prompt_number": 18
    },
    {
     "cell_type": "code",
     "collapsed": false,
     "input": [
      "a[:,-1]"
     ],
     "language": "python",
     "metadata": {},
     "outputs": [
      {
       "metadata": {},
       "output_type": "pyout",
       "prompt_number": 21,
       "text": [
        "array([3, 5])"
       ]
      }
     ],
     "prompt_number": 21
    },
    {
     "cell_type": "code",
     "collapsed": false,
     "input": [
      "BOLDc[:,:,:,-1]"
     ],
     "language": "python",
     "metadata": {},
     "outputs": [
      {
       "metadata": {},
       "output_type": "pyout",
       "prompt_number": 22,
       "text": [
        "memmap([[[   0,    0,    0, ...,    0,    0,    0],\n",
        "        [   0,    0,    0, ...,    0,    0,    0],\n",
        "        [   0,    0,    0, ...,    0,    0,    0],\n",
        "        ..., \n",
        "        [   0,    0,    0, ...,    0,    0,    0],\n",
        "        [   0,    0,    0, ...,    0,    0,    0],\n",
        "        [   0,    0,    0, ...,    0,    0,    0]],\n",
        "\n",
        "       [[ 106,   54,   54, ...,  150,   59,   79],\n",
        "        [  87,   83,   66, ...,  225,   91,   97],\n",
        "        [  48,  159,  136, ...,  406,   97,   68],\n",
        "        ..., \n",
        "        [  96,  234,   87, ...,   76,  125,   82],\n",
        "        [ 124,  431,   46, ...,   41,  120,   40],\n",
        "        [ 343,  516,  249, ...,   63,  126,   27]],\n",
        "\n",
        "       [[ 241,  112,   66, ...,   11,   38,   94],\n",
        "        [ 153,   96,   55, ...,   72,   48,   85],\n",
        "        [  92,  117,  161, ...,   95,   35,   74],\n",
        "        ..., \n",
        "        [  91,  269,  105, ...,   86,   47,  126],\n",
        "        [ 182,  415,  240, ...,   60,    4,  126],\n",
        "        [ 164,  535,  352, ...,   15,   47,   81]],\n",
        "\n",
        "       ..., \n",
        "       [[1126, 1668,  563, ...,  347,  289,  270],\n",
        "        [2231, 2328, 1585, ...,  106,  234,  641],\n",
        "        [2253, 2322, 2404, ...,  111,  410, 1008],\n",
        "        ..., \n",
        "        [ 391,  647,  423, ...,  167,  229,  103],\n",
        "        [ 435,  692,  184, ...,  119,   99,   66],\n",
        "        [ 366,  443,   46, ...,   73,  143,  102]],\n",
        "\n",
        "       [[ 479,  329,   98, ...,  624,  125,  154],\n",
        "        [1037,  877,   94, ...,  652,  240,  205],\n",
        "        [2617, 2075, 1029, ...,  272,   42,  437],\n",
        "        ..., \n",
        "        [ 456,  133,  194, ...,   81,   56,   46],\n",
        "        [ 668,  146,  310, ...,   36,  128,   52],\n",
        "        [ 251,  191,  315, ...,   78,  151,   93]],\n",
        "\n",
        "       [[  95,  269,  205, ...,   88,  143,   22],\n",
        "        [ 645,   91,  135, ...,  145,  110,   50],\n",
        "        [1180,  475,  117, ...,  533,  614,  124],\n",
        "        ..., \n",
        "        [ 166,  166,  154, ...,   56,   31,   28],\n",
        "        [ 144,  202,  209, ...,   33,   41,   50],\n",
        "        [ 173,  235,  205, ...,   48,   52,   30]]], dtype=int16)"
       ]
      }
     ],
     "prompt_number": 22
    },
    {
     "cell_type": "code",
     "collapsed": false,
     "input": [],
     "language": "python",
     "metadata": {},
     "outputs": []
    }
   ],
   "metadata": {}
  }
 ]
}